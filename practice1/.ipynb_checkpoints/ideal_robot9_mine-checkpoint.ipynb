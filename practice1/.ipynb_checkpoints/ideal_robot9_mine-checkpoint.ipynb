{
 "cells": [
  {
   "cell_type": "code",
   "execution_count": 1,
   "id": "b38453fb",
   "metadata": {},
   "outputs": [],
   "source": [
    "import matplotlib\n",
    "matplotlib.use('nbagg')\n",
    "import matplotlib.pyplot as plt\n",
    "import matplotlib.animation as anm\n",
    "import matplotlib.patches as patches\n",
    "import math\n",
    "import numpy as np"
   ]
  },
  {
   "cell_type": "code",
   "execution_count": null,
   "id": "06eec13e",
   "metadata": {},
   "outputs": [],
   "source": [
    "class World:\n",
    "    def __init__(self,time_span,time_interval,debug=False):\n",
    "        self.objects = []\n",
    "        self.debug=debug\n",
    "        self.time_span=time_span\n",
    "        self.time_interval=time_interval\n",
    "        \n",
    "    def append(self,obj):\n",
    "        self.objects.append(obj)\n",
    "    \n",
    "    def draw(self):\n",
    "        fig=plt.figure(figsize=(4,4))\n",
    "        ax=fig.add_subplot(111)\n",
    "        ax.set_aspect('equal')\n",
    "        ax.set_xlim(-5,5)\n",
    "        ax.set_ylim(-5,5)\n",
    "        ax.set_xlabel(\"X\",fontsize=10)\n",
    "        ax.set_ylabel(\"Y\",fontsize=19)\n",
    "        \n",
    "        elems=[]\n",
    "        if self.debug:\n",
    "            for frame in range(int(self.time_span/self.time_interval)): self.one_step(frame,ax,elems)\n",
    "        \n",
    "        else:\n",
    "            self.ani = anm.FuncAnimation(fig=fig,func=self.one_step,frames=int(self.time_span/time_interval),fargs=(ax,elems),interval=self.time_interval*1000,repeat=False)\n",
    "            plt.show()\n",
    "    \n",
    "    def one_step(self,frame,ax,elems):\n",
    "        while elems: elems.pop().remove()\n",
    "        time_str=\"t = %.2f[s]\" % (self.time_interval*frame)\n",
    "        elems.append(ax.text(-4.5,5,time_str,fontsize=10))\n",
    "        for obj in self.objects:\n",
    "            obj.draw(ax,elems)\n",
    "            if hasattr(obj,\"one_step\"): obj.one_step(self.time_interval)"
   ]
  }
 ],
 "metadata": {
  "kernelspec": {
   "display_name": "Python 3 (ipykernel)",
   "language": "python",
   "name": "python3"
  },
  "language_info": {
   "codemirror_mode": {
    "name": "ipython",
    "version": 3
   },
   "file_extension": ".py",
   "mimetype": "text/x-python",
   "name": "python",
   "nbconvert_exporter": "python",
   "pygments_lexer": "ipython3",
   "version": "3.8.5"
  }
 },
 "nbformat": 4,
 "nbformat_minor": 5
}
