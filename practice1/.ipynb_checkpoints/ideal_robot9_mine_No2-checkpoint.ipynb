{
 "cells": [
  {
   "cell_type": "code",
   "execution_count": 1,
   "id": "a6fc3445",
   "metadata": {},
   "outputs": [],
   "source": [
    "import matplotlib\n",
    "matplotlib.use('nbagg')\n",
    "import matplotlib.pyplot as plt\n",
    "import matplotlib.animation as anm\n",
    "import matplotlib.patches as patches\n",
    "import math\n",
    "import numpy as np"
   ]
  },
  {
   "cell_type": "code",
   "execution_count": 2,
   "id": "f3afbfc5",
   "metadata": {},
   "outputs": [],
   "source": [
    "class World:\n",
    "    def __init__ (self, time_span, time_interval, debug=False):\n",
    "        self.objects=[]\n",
    "        self.debug=debug\n",
    "        self.time_span=time_span\n",
    "        self.time_interval=time_interval\n",
    "    \n",
    "    def append(self,obj):\n",
    "        self.objects.append(obj)\n",
    "    \n",
    "    def one_step(self,time,ax,elems):\n",
    "        while elems: elems.pop().remove()\n",
    "        elems.append(ax.text(-4.5,4.5,\"time:\"+str(time)))\n",
    "        for obj in self.objects: \n",
    "            obj.draw(ax,elems)\n",
    "            if hasattr(obj,\"one_step\"):obj.one_step(self.time_interval)\n",
    "    \n",
    "    def draw(self):\n",
    "        fig=plt.figure(figsize=(4,4))\n",
    "        ax =fig.add_subplot(111)\n",
    "        ax.set_aspect('equal')\n",
    "        ax.set_xlim(-5,5)\n",
    "        ax.set_ylim(-5,5)\n",
    "        ax.set_xlabel(\"X\",fontsize=10)\n",
    "        ax.set_ylabel(\"Y\",fontsize=10)\n",
    "        \n",
    "        elems=[]\n",
    "    \n",
    "        if self.debug:\n",
    "            for frame in range(3): self.one_step(frame*self.time_interval,ax,elems)\n",
    "        else:\n",
    "            self.ani = anm.FuncAnimation(fig=fig,func=self.one_step,frames=int(self.time_span/self.time_interval)+1,fargs=(ax,elems),interval=self.time_interval,repeat=False)\n",
    "            plt.show()                "
   ]
  },
  {
   "cell_type": "code",
   "execution_count": 24,
   "id": "55a6b7d3",
   "metadata": {},
   "outputs": [],
   "source": [
    "class IdealRobot:\n",
    "    def __init__(self,pose,color=\"black\",agent=None,sensor=None):\n",
    "        self.pose=pose\n",
    "        self.r=0.2\n",
    "        self.color=color\n",
    "        self.agent=agent\n",
    "        self.sensor=sensor\n",
    "        self.poses=[pose]\n",
    "    \n",
    "    def draw(self,ax,elems):\n",
    "        x,y,theta=self.pose\n",
    "        self.poses.append(self.pose)\n",
    "        xn=x+self.r*math.cos(theta)\n",
    "        yn=y+self.r*math.sin(theta)\n",
    "        elems+=ax.plot([x,xn],[y,yn],color=self.color)\n",
    "        c=patches.Circle(xy=(x,y),radius=self.r,fill=False,color=self.color)\n",
    "        elems.append(ax.add_patch(c))\n",
    "        elems+=ax.plot([e[0] for e in self.poses],[e[1] for e in self.poses],color=self.color)\n",
    "        if self.sensor and len(self.poses)>1:\n",
    "            self.sensor.draw(ax,elems,self.poses[-2])\n",
    "\n",
    "    @classmethod\n",
    "    def state_transition(cls,nu,omega,time,pose):\n",
    "        t0=pose[2]\n",
    "        if math.fabs(omega)<1e-10:\n",
    "            return pose+np.array([nu*math.cos(omega),\n",
    "                                   nu*math.sin(omega),\n",
    "                                   omega])*time\n",
    "            return pose+np.array([nu/omega*(math.sin(t0+omega*time)-math.sin(t0)),\n",
    "                                   nu/omega*(-math.cos(t0+omega*time)+math.cos(t0)),\n",
    "                                   omega*time])\n",
    "        \n",
    "    def one_step(self,time):\n",
    "        if not self.agent:return\n",
    "        if self.sensor: obs=self.sensor.data(self.poses[-2])\n",
    "        else: obs=None\n",
    "        nu,omega=self.agent.decision(obs)\n",
    "        self.pose=self.state_transition(nu,omega,time,self.pose)"
   ]
  },
  {
   "cell_type": "code",
   "execution_count": 25,
   "id": "a1da2bd1",
   "metadata": {},
   "outputs": [],
   "source": [
    "class Agent:\n",
    "    def __init__(self,nu,omega):\n",
    "        self.nu=nu\n",
    "        self.omega=omega\n",
    "        \n",
    "    def decision(self,observation=None):\n",
    "        return self.nu,self.omega"
   ]
  },
  {
   "cell_type": "code",
   "execution_count": 26,
   "id": "0d15e8a3",
   "metadata": {},
   "outputs": [],
   "source": [
    "class Landmark:\n",
    "    def __init__(self,x,y):\n",
    "        self.pos=np.array([x,y]).T\n",
    "        self.id=None\n",
    "        \n",
    "    def draw(self,ax,elems):\n",
    "        elems.append(ax.scatter(self.pos[0],self.pos[1],s=100,marker=\"*\",label=\"landmarks\",color=\"orange\"))\n",
    "        elems.append(ax.text(self.pos[0],self.pos[1],\"id:\"+str(self.id),fontsize=10))"
   ]
  },
  {
   "cell_type": "code",
   "execution_count": 27,
   "id": "f9964951",
   "metadata": {},
   "outputs": [],
   "source": [
    "class Map:\n",
    "    def __init__(self):\n",
    "        self.landmarks=[]\n",
    "    def append_landmark(self,landmark):\n",
    "        self.landmarks.append(landmark)\n",
    "    def draw(self,ax,elems):\n",
    "        for lm in self.landmarks: lm.draw(ax,elems)"
   ]
  },
  {
   "cell_type": "code",
   "execution_count": 30,
   "id": "b4503a74",
   "metadata": {},
   "outputs": [
    {
     "ename": "TypeError",
     "evalue": "cannot unpack non-iterable NoneType object",
     "output_type": "error",
     "traceback": [
      "\u001b[1;31m---------------------------------------------------------------------------\u001b[0m",
      "\u001b[1;31mTypeError\u001b[0m                                 Traceback (most recent call last)",
      "\u001b[1;32m~\\AppData\\Local\\Temp/ipykernel_9596/1852894790.py\u001b[0m in \u001b[0;36m<module>\u001b[1;34m\u001b[0m\n\u001b[0;32m     14\u001b[0m \u001b[0mrobot1\u001b[0m\u001b[1;33m=\u001b[0m\u001b[0mIdealRobot\u001b[0m\u001b[1;33m(\u001b[0m\u001b[1;33m[\u001b[0m\u001b[1;33m-\u001b[0m\u001b[1;36m3\u001b[0m\u001b[1;33m,\u001b[0m\u001b[1;36m4\u001b[0m\u001b[1;33m,\u001b[0m\u001b[1;36m0\u001b[0m\u001b[1;33m]\u001b[0m\u001b[1;33m,\u001b[0m\u001b[0magent\u001b[0m\u001b[1;33m=\u001b[0m\u001b[0mstraight\u001b[0m\u001b[1;33m)\u001b[0m\u001b[1;33m\u001b[0m\u001b[1;33m\u001b[0m\u001b[0m\n\u001b[0;32m     15\u001b[0m \u001b[0mworld\u001b[0m\u001b[1;33m.\u001b[0m\u001b[0mappend\u001b[0m\u001b[1;33m(\u001b[0m\u001b[0mrobot1\u001b[0m\u001b[1;33m)\u001b[0m\u001b[1;33m\u001b[0m\u001b[1;33m\u001b[0m\u001b[0m\n\u001b[1;32m---> 16\u001b[1;33m \u001b[0mworld\u001b[0m\u001b[1;33m.\u001b[0m\u001b[0mdraw\u001b[0m\u001b[1;33m(\u001b[0m\u001b[1;33m)\u001b[0m\u001b[1;33m\u001b[0m\u001b[1;33m\u001b[0m\u001b[0m\n\u001b[0m",
      "\u001b[1;32m~\\AppData\\Local\\Temp/ipykernel_9596/4019303956.py\u001b[0m in \u001b[0;36mdraw\u001b[1;34m(self)\u001b[0m\n\u001b[0;32m     28\u001b[0m \u001b[1;33m\u001b[0m\u001b[0m\n\u001b[0;32m     29\u001b[0m         \u001b[1;32mif\u001b[0m \u001b[0mself\u001b[0m\u001b[1;33m.\u001b[0m\u001b[0mdebug\u001b[0m\u001b[1;33m:\u001b[0m\u001b[1;33m\u001b[0m\u001b[1;33m\u001b[0m\u001b[0m\n\u001b[1;32m---> 30\u001b[1;33m             \u001b[1;32mfor\u001b[0m \u001b[0mframe\u001b[0m \u001b[1;32min\u001b[0m \u001b[0mrange\u001b[0m\u001b[1;33m(\u001b[0m\u001b[1;36m3\u001b[0m\u001b[1;33m)\u001b[0m\u001b[1;33m:\u001b[0m \u001b[0mself\u001b[0m\u001b[1;33m.\u001b[0m\u001b[0mone_step\u001b[0m\u001b[1;33m(\u001b[0m\u001b[0mframe\u001b[0m\u001b[1;33m*\u001b[0m\u001b[0mself\u001b[0m\u001b[1;33m.\u001b[0m\u001b[0mtime_interval\u001b[0m\u001b[1;33m,\u001b[0m\u001b[0max\u001b[0m\u001b[1;33m,\u001b[0m\u001b[0melems\u001b[0m\u001b[1;33m)\u001b[0m\u001b[1;33m\u001b[0m\u001b[1;33m\u001b[0m\u001b[0m\n\u001b[0m\u001b[0;32m     31\u001b[0m         \u001b[1;32melse\u001b[0m\u001b[1;33m:\u001b[0m\u001b[1;33m\u001b[0m\u001b[1;33m\u001b[0m\u001b[0m\n\u001b[0;32m     32\u001b[0m             \u001b[0mself\u001b[0m\u001b[1;33m.\u001b[0m\u001b[0mani\u001b[0m \u001b[1;33m=\u001b[0m \u001b[0manm\u001b[0m\u001b[1;33m.\u001b[0m\u001b[0mFuncAnimation\u001b[0m\u001b[1;33m(\u001b[0m\u001b[0mfig\u001b[0m\u001b[1;33m=\u001b[0m\u001b[0mfig\u001b[0m\u001b[1;33m,\u001b[0m\u001b[0mfunc\u001b[0m\u001b[1;33m=\u001b[0m\u001b[0mself\u001b[0m\u001b[1;33m.\u001b[0m\u001b[0mone_step\u001b[0m\u001b[1;33m,\u001b[0m\u001b[0mframes\u001b[0m\u001b[1;33m=\u001b[0m\u001b[0mint\u001b[0m\u001b[1;33m(\u001b[0m\u001b[0mself\u001b[0m\u001b[1;33m.\u001b[0m\u001b[0mtime_span\u001b[0m\u001b[1;33m/\u001b[0m\u001b[0mself\u001b[0m\u001b[1;33m.\u001b[0m\u001b[0mtime_interval\u001b[0m\u001b[1;33m)\u001b[0m\u001b[1;33m+\u001b[0m\u001b[1;36m1\u001b[0m\u001b[1;33m,\u001b[0m\u001b[0mfargs\u001b[0m\u001b[1;33m=\u001b[0m\u001b[1;33m(\u001b[0m\u001b[0max\u001b[0m\u001b[1;33m,\u001b[0m\u001b[0melems\u001b[0m\u001b[1;33m)\u001b[0m\u001b[1;33m,\u001b[0m\u001b[0minterval\u001b[0m\u001b[1;33m=\u001b[0m\u001b[0mself\u001b[0m\u001b[1;33m.\u001b[0m\u001b[0mtime_interval\u001b[0m\u001b[1;33m,\u001b[0m\u001b[0mrepeat\u001b[0m\u001b[1;33m=\u001b[0m\u001b[1;32mFalse\u001b[0m\u001b[1;33m)\u001b[0m\u001b[1;33m\u001b[0m\u001b[1;33m\u001b[0m\u001b[0m\n",
      "\u001b[1;32m~\\AppData\\Local\\Temp/ipykernel_9596/4019303956.py\u001b[0m in \u001b[0;36mone_step\u001b[1;34m(self, time, ax, elems)\u001b[0m\n\u001b[0;32m     13\u001b[0m         \u001b[0melems\u001b[0m\u001b[1;33m.\u001b[0m\u001b[0mappend\u001b[0m\u001b[1;33m(\u001b[0m\u001b[0max\u001b[0m\u001b[1;33m.\u001b[0m\u001b[0mtext\u001b[0m\u001b[1;33m(\u001b[0m\u001b[1;33m-\u001b[0m\u001b[1;36m4.5\u001b[0m\u001b[1;33m,\u001b[0m\u001b[1;36m4.5\u001b[0m\u001b[1;33m,\u001b[0m\u001b[1;34m\"time:\"\u001b[0m\u001b[1;33m+\u001b[0m\u001b[0mstr\u001b[0m\u001b[1;33m(\u001b[0m\u001b[0mtime\u001b[0m\u001b[1;33m)\u001b[0m\u001b[1;33m)\u001b[0m\u001b[1;33m)\u001b[0m\u001b[1;33m\u001b[0m\u001b[1;33m\u001b[0m\u001b[0m\n\u001b[0;32m     14\u001b[0m         \u001b[1;32mfor\u001b[0m \u001b[0mobj\u001b[0m \u001b[1;32min\u001b[0m \u001b[0mself\u001b[0m\u001b[1;33m.\u001b[0m\u001b[0mobjects\u001b[0m\u001b[1;33m:\u001b[0m\u001b[1;33m\u001b[0m\u001b[1;33m\u001b[0m\u001b[0m\n\u001b[1;32m---> 15\u001b[1;33m             \u001b[0mobj\u001b[0m\u001b[1;33m.\u001b[0m\u001b[0mdraw\u001b[0m\u001b[1;33m(\u001b[0m\u001b[0max\u001b[0m\u001b[1;33m,\u001b[0m\u001b[0melems\u001b[0m\u001b[1;33m)\u001b[0m\u001b[1;33m\u001b[0m\u001b[1;33m\u001b[0m\u001b[0m\n\u001b[0m\u001b[0;32m     16\u001b[0m             \u001b[1;32mif\u001b[0m \u001b[0mhasattr\u001b[0m\u001b[1;33m(\u001b[0m\u001b[0mobj\u001b[0m\u001b[1;33m,\u001b[0m\u001b[1;34m\"one_step\"\u001b[0m\u001b[1;33m)\u001b[0m\u001b[1;33m:\u001b[0m\u001b[0mobj\u001b[0m\u001b[1;33m.\u001b[0m\u001b[0mone_step\u001b[0m\u001b[1;33m(\u001b[0m\u001b[0mself\u001b[0m\u001b[1;33m.\u001b[0m\u001b[0mtime_interval\u001b[0m\u001b[1;33m)\u001b[0m\u001b[1;33m\u001b[0m\u001b[1;33m\u001b[0m\u001b[0m\n\u001b[0;32m     17\u001b[0m \u001b[1;33m\u001b[0m\u001b[0m\n",
      "\u001b[1;32m~\\AppData\\Local\\Temp/ipykernel_9596/1177042441.py\u001b[0m in \u001b[0;36mdraw\u001b[1;34m(self, ax, elems)\u001b[0m\n\u001b[0;32m      9\u001b[0m \u001b[1;33m\u001b[0m\u001b[0m\n\u001b[0;32m     10\u001b[0m     \u001b[1;32mdef\u001b[0m \u001b[0mdraw\u001b[0m\u001b[1;33m(\u001b[0m\u001b[0mself\u001b[0m\u001b[1;33m,\u001b[0m\u001b[0max\u001b[0m\u001b[1;33m,\u001b[0m\u001b[0melems\u001b[0m\u001b[1;33m)\u001b[0m\u001b[1;33m:\u001b[0m\u001b[1;33m\u001b[0m\u001b[1;33m\u001b[0m\u001b[0m\n\u001b[1;32m---> 11\u001b[1;33m         \u001b[0mx\u001b[0m\u001b[1;33m,\u001b[0m\u001b[0my\u001b[0m\u001b[1;33m,\u001b[0m\u001b[0mtheta\u001b[0m\u001b[1;33m=\u001b[0m\u001b[0mself\u001b[0m\u001b[1;33m.\u001b[0m\u001b[0mpose\u001b[0m\u001b[1;33m\u001b[0m\u001b[1;33m\u001b[0m\u001b[0m\n\u001b[0m\u001b[0;32m     12\u001b[0m         \u001b[0mself\u001b[0m\u001b[1;33m.\u001b[0m\u001b[0mposes\u001b[0m\u001b[1;33m.\u001b[0m\u001b[0mappend\u001b[0m\u001b[1;33m(\u001b[0m\u001b[0mself\u001b[0m\u001b[1;33m.\u001b[0m\u001b[0mpose\u001b[0m\u001b[1;33m)\u001b[0m\u001b[1;33m\u001b[0m\u001b[1;33m\u001b[0m\u001b[0m\n\u001b[0;32m     13\u001b[0m         \u001b[0mxn\u001b[0m\u001b[1;33m=\u001b[0m\u001b[0mx\u001b[0m\u001b[1;33m+\u001b[0m\u001b[0mself\u001b[0m\u001b[1;33m.\u001b[0m\u001b[0mr\u001b[0m\u001b[1;33m*\u001b[0m\u001b[0mmath\u001b[0m\u001b[1;33m.\u001b[0m\u001b[0mcos\u001b[0m\u001b[1;33m(\u001b[0m\u001b[0mtheta\u001b[0m\u001b[1;33m)\u001b[0m\u001b[1;33m\u001b[0m\u001b[1;33m\u001b[0m\u001b[0m\n",
      "\u001b[1;31mTypeError\u001b[0m: cannot unpack non-iterable NoneType object"
     ]
    }
   ],
   "source": [
    "world=World(10,0.1,debug=True)\n",
    "\n",
    "m=Map()\n",
    "m.append_landmark(Landmark(1,1))\n",
    "m.append_landmark(Landmark(1,1.2))\n",
    "m.append_landmark(Landmark(1,1.5))\n",
    "m.append_landmark(Landmark(1,1.8))\n",
    "m.append_landmark(Landmark(1,2.1))\n",
    "m.append_landmark(Landmark(1,2.4))\n",
    "m.append_landmark(Landmark(1,2.7))\n",
    "world.append(m)\n",
    "\n",
    "straight=Agent(0.2,10/180*math.pi)\n",
    "robot1=IdealRobot(np.array([2,3,math.pi/6]).T,agent=straight)\n",
    "world.append(robot1)\n",
    "world.draw()"
   ]
  },
  {
   "cell_type": "code",
   "execution_count": null,
   "id": "f49e913c",
   "metadata": {},
   "outputs": [],
   "source": []
  }
 ],
 "metadata": {
  "kernelspec": {
   "display_name": "Python 3 (ipykernel)",
   "language": "python",
   "name": "python3"
  },
  "language_info": {
   "codemirror_mode": {
    "name": "ipython",
    "version": 3
   },
   "file_extension": ".py",
   "mimetype": "text/x-python",
   "name": "python",
   "nbconvert_exporter": "python",
   "pygments_lexer": "ipython3",
   "version": "3.8.5"
  }
 },
 "nbformat": 4,
 "nbformat_minor": 5
}
