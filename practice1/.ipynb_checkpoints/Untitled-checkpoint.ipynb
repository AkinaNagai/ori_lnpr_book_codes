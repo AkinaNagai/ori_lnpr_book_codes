{
 "cells": [
  {
   "cell_type": "code",
   "execution_count": 1,
   "id": "7fe7d6ff",
   "metadata": {},
   "outputs": [],
   "source": [
    "import matplotlib.pyplot as plt\n",
    "import math\n",
    "import matplotlib.patches as patches\n",
    "import numpy as np"
   ]
  },
  {
   "cell_type": "code",
   "execution_count": 17,
   "id": "28af4f0d",
   "metadata": {},
   "outputs": [],
   "source": [
    "class World:\n",
    "    def __init__ (self):\n",
    "        self.objects = []\n",
    "    \n",
    "    def append(self, obj):\n",
    "        self.objects.append(obj)\n",
    "    \n",
    "    def draw(self):\n",
    "        fig = plt.figure(figsize=(5,5))\n",
    "        ax = fig.add_subplot(111)\n",
    "        #ax.set_aspect('equal')\n",
    "        ax.set_xlim(-5,5)\n",
    "        ax.set_ylim(-5,5)\n",
    "        ax.set_xlabel(\"x\", fontsize=20)\n",
    "        ax.set_ylabel(\"y\", fontsize=20)\n",
    "        \n",
    "        for obj in self.objects: obj.draw(ax)\n",
    "            \n",
    "        plt.show()"
   ]
  },
  {
   "cell_type": "code",
   "execution_count": 18,
   "id": "565cdd76",
   "metadata": {},
   "outputs": [],
   "source": [
    "class IdealRobot:\n",
    "    def __init__(self,pose,color=\"Red\"):\n",
    "        self.pose = pose\n",
    "        self.r = 0.2\n",
    "        self.color = color\n",
    "    def draw(self,ax):\n",
    "        x,y,theta = self.pose\n",
    "        xn = x + self.r*math.cos(theta)\n",
    "        yn = y + self.r*math.sin(theta)\n",
    "        ax.plot([x,xn],[y,yn],color=self.color)\n",
    "        c = patches.Circle(xy = (x,y),radius=self.r,fill=False,color=self.color)\n",
    "        ax.add_patch(c)"
   ]
  },
  {
   "cell_type": "code",
   "execution_count": 19,
   "id": "1e4e51b0",
   "metadata": {
    "scrolled": true
   },
   "outputs": [
    {
     "data": {
      "image/png": "[encoded data removed]",
      "text/plain": [
       "<Figure size 360x360 with 1 Axes>"
      ]
     },
     "metadata": {
      "needs_background": "light"
     },
     "output_type": "display_data"
    }
   ],
   "source": [
    "world = World()\n",
    "robot1 = IdealRobot([1,1,1/2])\n",
    "world.append(robot1)\n",
    "\n",
    "world.draw()"
   ]
  },
  {
   "cell_type": "code",
   "execution_count": null,
   "id": "67229a18",
   "metadata": {},
   "outputs": [],
   "source": []
  }
 ],
 "metadata": {
  "kernelspec": {
   "display_name": "Python 3 (ipykernel)",
   "language": "python",
   "name": "python3"
  },
  "language_info": {
   "codemirror_mode": {
    "name": "ipython",
    "version": 3
   },
   "file_extension": ".py",
   "mimetype": "text/x-python",
   "name": "python",
   "nbconvert_exporter": "python",
   "pygments_lexer": "ipython3",
   "version": "3.8.5"
  }
 },
 "nbformat": 4,
 "nbformat_minor": 5
}
