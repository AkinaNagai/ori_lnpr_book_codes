{
 "cells": [
  {
   "cell_type": "code",
   "execution_count": 6,
   "id": "744a4783",
   "metadata": {},
   "outputs": [],
   "source": [
    "import matplotlib\n",
    "matplotlib.use('nbagg')\n",
    "import matplotlib.animation as anm\n",
    "import matplotlib.pyplot as plt\n",
    "import matplotlib.patches as patches\n",
    "import math\n",
    "import numpy as np"
   ]
  },
  {
   "cell_type": "code",
   "execution_count": 7,
   "id": "8338a221",
   "metadata": {},
   "outputs": [],
   "source": [
    "class World:\n",
    "    def __init__(self,debug=False):\n",
    "        self.objects = []\n",
    "        self.debug = debug\n",
    "        \n",
    "    def append(self,obj):\n",
    "        self.objects.append(obj)\n",
    "        \n",
    "    def one_step(self,frame,elems,ax):\n",
    "        #elems.clear()\n",
    "        print(elems)\n",
    "        while elems: elems.pop().remove()\n",
    "        elems.append(ax.text(-4.4,4.5, \"t= \"+str(frame),fontsize=10))\n",
    "        for obj in self.objects:\n",
    "            obj.draw(ax,elems)\n",
    "            if hasattr(obj, \"one_step\"): obj.one_step(1.0)\n",
    "    \n",
    "    def draw(self):\n",
    "        fig = plt.figure(figsize=(4,4))\n",
    "        ax=fig.add_subplot(111)\n",
    "        ax.set_aspect('equal')\n",
    "        ax.set_xlim(-5,5)\n",
    "        ax.set_ylim(-5,5)\n",
    "        ax.set_xlabel(\"X\",fontsize=10)\n",
    "        ax.set_ylabel(\"Y\",fontsize=10)\n",
    "        \n",
    "        elems = []\n",
    "        \n",
    "        if self.debug:\n",
    "            for frame in range(3): self.one_step(frame,elems,ax)\n",
    "        else:\n",
    "            self.ani = anm.FuncAnimation(fig=fig,func=self.one_step,frames=10,fargs=(elems,ax),interval=1000,repeat=False)\n",
    "            plt.show()"
   ]
  },
  {
   "cell_type": "code",
   "execution_count": 8,
   "id": "def64529",
   "metadata": {},
   "outputs": [],
   "source": [
    "class IdealRobot:\n",
    "    def __init__(self, pose, agent=None, color=\"Black\"):\n",
    "        self.pose = pose\n",
    "        self.r = 0.2\n",
    "        self.color = color\n",
    "        self.agent = agent\n",
    "        self.poses = [pose]\n",
    "\n",
    "    def draw(self,ax,elems):\n",
    "        x,y,theta = self.pose\n",
    "        xn=x+self.r*math.cos(theta)\n",
    "        yn=y+self.r*math.sin(theta)\n",
    "        elems+=ax.plot([x,xn],[y,yn],color=self.color)\n",
    "        c = patches.Circle(xy=(x,y),radius=self.r,fill=False,color=self.color)\n",
    "        elems.append(ax.add_patch(c))\n",
    "        \n",
    "        self.poses.append(self.pose)\n",
    "        elems += ax.plot([e[0] for e in self.poses], [e[1] for e in self.poses], linewidth=0.5, color=\"black\")\n",
    "        \n",
    "    @classmethod\n",
    "    def state_transition(cls, nu, omega, time, pose):\n",
    "        t0 = pose[2]\n",
    "        if math.fabs(omega) < 1e-10:\n",
    "            return pose + np.array([nu*math.cos(t0),\n",
    "                                    nu*math.sin(t0),\n",
    "                                    omega]) * time\n",
    "        else:\n",
    "            return pose + np.array([nu/omega*( math.sin(t0 + omega*time) - math.sin(t0)),\n",
    "                                     nu/omega*(-math.cos(t0 + omega*time) + math.cos(t0)),\n",
    "                                   omega*time])\n",
    "\n",
    "    def one_step(self,time_interval):\n",
    "        if not self.agent: return\n",
    "        nu, omega = self.agent.decision()\n",
    "        self.pose = self.state_transition(nu, omega, time_interval, self.pose)"
   ]
  },
  {
   "cell_type": "code",
   "execution_count": 9,
   "id": "14e06f03",
   "metadata": {},
   "outputs": [],
   "source": [
    "class Agent:\n",
    "    def __init__(self, nu, omega):\n",
    "        self.nu =nu\n",
    "        self.omega = omega\n",
    "        \n",
    "    def decision(self, observation=None):\n",
    "        return self.nu, self.omega"
   ]
  },
  {
   "cell_type": "code",
   "execution_count": 10,
   "id": "535d2c77",
   "metadata": {},
   "outputs": [
    {
     "name": "stdout",
     "output_type": "stream",
     "text": [
      "[]\n",
      "[Text(-4.4, 4.5, 't= 0'), <matplotlib.lines.Line2D object at 0x01495340>, <matplotlib.patches.Circle object at 0x01495280>, <matplotlib.lines.Line2D object at 0x014955F8>, <matplotlib.lines.Line2D object at 0x01495760>, <matplotlib.patches.Circle object at 0x11297DC0>, <matplotlib.lines.Line2D object at 0x014959E8>]\n",
      "[Text(-4.4, 4.5, 't= 1'), <matplotlib.lines.Line2D object at 0x01495328>, <matplotlib.patches.Circle object at 0x11297A30>, <matplotlib.lines.Line2D object at 0x014955E0>, <matplotlib.lines.Line2D object at 0x014956E8>, <matplotlib.patches.Circle object at 0x065A7CB8>, <matplotlib.lines.Line2D object at 0x01495940>]\n"
     ]
    }
   ],
   "source": [
    "world=World(debug=True)\n",
    "\n",
    "straight = Agent(0.2,0.0)\n",
    "circling = Agent(0.2, 10.0/180*math.pi)\n",
    "robot1=IdealRobot(np.array([-1,1,math.pi/3]).T,straight)\n",
    "robot2=IdealRobot(np.array([-2,-1,math.pi/5*6]).T,circling)\n",
    "world.append(robot1)\n",
    "world.append(robot2)\n",
    "world.draw()"
   ]
  },
  {
   "cell_type": "code",
   "execution_count": null,
   "id": "066fa6dd",
   "metadata": {},
   "outputs": [],
   "source": []
  }
 ],
 "metadata": {
  "kernelspec": {
   "display_name": "Python 3 (ipykernel)",
   "language": "python",
   "name": "python3"
  },
  "language_info": {
   "codemirror_mode": {
    "name": "ipython",
    "version": 3
   },
   "file_extension": ".py",
   "mimetype": "text/x-python",
   "name": "python",
   "nbconvert_exporter": "python",
   "pygments_lexer": "ipython3",
   "version": "3.8.5"
  }
 },
 "nbformat": 4,
 "nbformat_minor": 5
}
