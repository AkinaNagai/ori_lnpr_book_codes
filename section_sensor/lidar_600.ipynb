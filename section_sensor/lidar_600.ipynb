{
 "cells": [
  {
   "cell_type": "code",
   "execution_count": 69,
   "id": "57760fcc",
   "metadata": {},
   "outputs": [
    {
     "data": {
      "text/plain": [
       "(array([1.000e+00, 4.000e+00, 5.000e+00, 2.700e+01, 5.600e+01, 1.300e+02,\n",
       "        3.490e+02, 0.000e+00, 6.380e+02, 1.140e+03, 1.815e+03, 2.603e+03,\n",
       "        3.333e+03, 3.834e+03, 4.193e+03, 4.278e+03, 4.059e+03, 3.815e+03,\n",
       "        3.434e+03, 3.510e+03, 3.592e+03, 4.197e+03, 4.948e+03, 5.510e+03,\n",
       "        5.765e+03, 5.506e+03, 4.907e+03, 3.932e+03, 0.000e+00, 2.911e+03,\n",
       "        1.832e+03, 1.055e+03, 5.490e+02, 2.460e+02, 8.200e+01, 3.300e+01,\n",
       "        9.000e+00, 3.000e+00]),\n",
       " array([607., 608., 609., 610., 611., 612., 613., 614., 615., 616., 617.,\n",
       "        618., 619., 620., 621., 622., 623., 624., 625., 626., 627., 628.,\n",
       "        629., 630., 631., 632., 633., 634., 635., 636., 637., 638., 639.,\n",
       "        640., 641., 642., 643., 644., 645.]),\n",
       " <BarContainer object of 38 artists>)"
      ]
     },
     "execution_count": 69,
     "metadata": {},
     "output_type": "execute_result"
    },
    {
     "data": {
      "image/png": "[encoded data removed]",
      "text/plain": [
       "<Figure size 432x288 with 1 Axes>"
      ]
     },
     "metadata": {
      "needs_background": "light"
     },
     "output_type": "display_data"
    }
   ],
   "source": [
    "#測定値をグラフで表示。グラフは、マルチモーダル（多峰性）な分布\n",
    "import numpy as np\n",
    "import pandas as pd\n",
    "import matplotlib.pyplot as plt\n",
    "\n",
    "fig, ax = plt.subplots()\n",
    "data = pd.read_csv(\"./sensor_data_600.txt\", delimiter=\" \", header = None, names = (\"date\", \"time\", \"ir\", \"lidar\"))\n",
    "ax.hist(data[\"lidar\"], bins = max(data[\"lidar\"]) - min(data[\"lidar\"]),align=\"left\")"
   ]
  },
  {
   "cell_type": "code",
   "execution_count": 70,
   "id": "300a6f0e",
   "metadata": {},
   "outputs": [
    {
     "data": {
      "text/html": [
       "<div>\n",
       "<style scoped>\n",
       "    .dataframe tbody tr th:only-of-type {\n",
       "        vertical-align: middle;\n",
       "    }\n",
       "\n",
       "    .dataframe tbody tr th {\n",
       "        vertical-align: top;\n",
       "    }\n",
       "\n",
       "    .dataframe thead th {\n",
       "        text-align: right;\n",
       "    }\n",
       "</style>\n",
       "<table border=\"1\" class=\"dataframe\">\n",
       "  <thead>\n",
       "    <tr style=\"text-align: right;\">\n",
       "      <th></th>\n",
       "      <th>date</th>\n",
       "      <th>time</th>\n",
       "      <th>ir</th>\n",
       "      <th>lidar</th>\n",
       "    </tr>\n",
       "  </thead>\n",
       "  <tbody>\n",
       "    <tr>\n",
       "      <th>0</th>\n",
       "      <td>20180202</td>\n",
       "      <td>110001</td>\n",
       "      <td>28</td>\n",
       "      <td>627</td>\n",
       "    </tr>\n",
       "    <tr>\n",
       "      <th>1</th>\n",
       "      <td>20180202</td>\n",
       "      <td>110004</td>\n",
       "      <td>17</td>\n",
       "      <td>626</td>\n",
       "    </tr>\n",
       "    <tr>\n",
       "      <th>2</th>\n",
       "      <td>20180202</td>\n",
       "      <td>110007</td>\n",
       "      <td>14</td>\n",
       "      <td>627</td>\n",
       "    </tr>\n",
       "    <tr>\n",
       "      <th>3</th>\n",
       "      <td>20180202</td>\n",
       "      <td>110010</td>\n",
       "      <td>31</td>\n",
       "      <td>622</td>\n",
       "    </tr>\n",
       "    <tr>\n",
       "      <th>4</th>\n",
       "      <td>20180202</td>\n",
       "      <td>110013</td>\n",
       "      <td>24</td>\n",
       "      <td>630</td>\n",
       "    </tr>\n",
       "    <tr>\n",
       "      <th>...</th>\n",
       "      <td>...</td>\n",
       "      <td>...</td>\n",
       "      <td>...</td>\n",
       "      <td>...</td>\n",
       "    </tr>\n",
       "    <tr>\n",
       "      <th>82296</th>\n",
       "      <td>20180205</td>\n",
       "      <td>84216</td>\n",
       "      <td>39</td>\n",
       "      <td>634</td>\n",
       "    </tr>\n",
       "    <tr>\n",
       "      <th>82297</th>\n",
       "      <td>20180205</td>\n",
       "      <td>84220</td>\n",
       "      <td>13</td>\n",
       "      <td>637</td>\n",
       "    </tr>\n",
       "    <tr>\n",
       "      <th>82298</th>\n",
       "      <td>20180205</td>\n",
       "      <td>84222</td>\n",
       "      <td>37</td>\n",
       "      <td>633</td>\n",
       "    </tr>\n",
       "    <tr>\n",
       "      <th>82299</th>\n",
       "      <td>20180205</td>\n",
       "      <td>84225</td>\n",
       "      <td>36</td>\n",
       "      <td>633</td>\n",
       "    </tr>\n",
       "    <tr>\n",
       "      <th>82300</th>\n",
       "      <td>20180205</td>\n",
       "      <td>84228</td>\n",
       "      <td>33</td>\n",
       "      <td>634</td>\n",
       "    </tr>\n",
       "  </tbody>\n",
       "</table>\n",
       "<p>82301 rows × 4 columns</p>\n",
       "</div>"
      ],
      "text/plain": [
       "           date    time  ir  lidar\n",
       "0      20180202  110001  28    627\n",
       "1      20180202  110004  17    626\n",
       "2      20180202  110007  14    627\n",
       "3      20180202  110010  31    622\n",
       "4      20180202  110013  24    630\n",
       "...         ...     ...  ..    ...\n",
       "82296  20180205   84216  39    634\n",
       "82297  20180205   84220  13    637\n",
       "82298  20180205   84222  37    633\n",
       "82299  20180205   84225  36    633\n",
       "82300  20180205   84228  33    634\n",
       "\n",
       "[82301 rows x 4 columns]"
      ]
     },
     "execution_count": 70,
     "metadata": {},
     "output_type": "execute_result"
    }
   ],
   "source": [
    "data"
   ]
  },
  {
   "cell_type": "code",
   "execution_count": 85,
   "id": "1de9b92a",
   "metadata": {},
   "outputs": [
    {
     "data": {
      "text/plain": [
       "[<matplotlib.lines.Line2D at 0x189e67a8>]"
      ]
     },
     "execution_count": 85,
     "metadata": {},
     "output_type": "execute_result"
    },
    {
     "data": {
      "image/png": "[encoded data removed]",
      "text/plain": [
       "<Figure size 432x288 with 1 Axes>"
      ]
     },
     "metadata": {
      "needs_background": "light"
     },
     "output_type": "display_data"
    }
   ],
   "source": [
    "#Lidar値を、測定した順番に並べて表示\n",
    "fig, ax = plt.subplots()\n",
    "ax.plot(data[\"lidar\"], marker=\".\", ls=\"-\")"
   ]
  },
  {
   "cell_type": "code",
   "execution_count": 41,
   "id": "472346a4",
   "metadata": {
    "scrolled": false
   },
   "outputs": [
    {
     "name": "stdout",
     "output_type": "stream",
     "text": [
      "<class 'pandas.core.frame.DataFrame'>\n"
     ]
    },
    {
     "data": {
      "text/plain": [
       "Text(0, 0.5, 'Lidar value (mm)')"
      ]
     },
     "execution_count": 41,
     "metadata": {},
     "output_type": "execute_result"
    },
    {
     "data": {
      "image/png": "[encoded data removed]",
      "text/plain": [
       "<Figure size 432x288 with 1 Axes>"
      ]
     },
     "metadata": {
      "needs_background": "light"
     },
     "output_type": "display_data"
    }
   ],
   "source": [
    "data[\"hour\"] = [e//10000 for e in data.time] #timeのうち、分秒を切り捨て。\n",
    "d = data.groupby(\"hour\")                     #各時刻のデータをグルーピング。dには全てのデータが入っている。\n",
    "\n",
    "#PandasのseriesからDataFrameへ変換\n",
    "new_d = pd.DataFrame(d.lidar.mean())         #lidar値を平均し、indexのhourが横軸でプロット。\n",
    "print(type(new_d))\n",
    "\n",
    "#Matplotlibで、オブジェクト指向インターフェースの記述方法\n",
    "fig, ax = plt.subplots()\n",
    "ax.plot(new_d.index, new_d[\"lidar\"],  label = 'lidar')\n",
    "ax.set_xlabel('Hour (h)')\n",
    "ax.set_ylabel('Lidar value (mm)')"
   ]
  },
  {
   "cell_type": "code",
   "execution_count": 88,
   "id": "61705204",
   "metadata": {},
   "outputs": [
    {
     "data": {
      "text/plain": [
       "<matplotlib.legend.Legend at 0x14852bb0>"
      ]
     },
     "execution_count": 88,
     "metadata": {},
     "output_type": "execute_result"
    },
    {
     "data": {
      "image/png": "[encoded data removed]",
      "text/plain": [
       "<Figure size 432x288 with 1 Axes>"
      ]
     },
     "metadata": {
      "needs_background": "light"
     },
     "output_type": "display_data"
    }
   ],
   "source": [
    "#6時と14時に測定したlidarのデータの分布を目視で比較。\n",
    "fig, ax = plt.subplots()\n",
    "ax.hist(d[\"lidar\"].get_group(6), label = 'hour:6')\n",
    "ax.hist(d[\"lidar\"].get_group(14), label = 'hour:14')\n",
    "ax.legend()\n"
   ]
  },
  {
   "cell_type": "code",
   "execution_count": 59,
   "id": "bb70d4d7",
   "metadata": {},
   "outputs": [
    {
     "name": "stdout",
     "output_type": "stream",
     "text": [
      "           x        sin(x)\n",
      "0   0.000000  0.000000e+00\n",
      "1   0.330694  3.246995e-01\n",
      "2   0.661388  6.142127e-01\n",
      "3   0.992082  8.371665e-01\n",
      "4   1.322776  9.694003e-01\n",
      "5   1.653470  9.965845e-01\n",
      "6   1.984164  9.157733e-01\n",
      "7   2.314858  7.357239e-01\n",
      "8   2.645552  4.759474e-01\n",
      "9   2.976246  1.645946e-01\n",
      "10  3.306940 -1.645946e-01\n",
      "11  3.637634 -4.759474e-01\n",
      "12  3.968328 -7.357239e-01\n",
      "13  4.299022 -9.157733e-01\n",
      "14  4.629715 -9.965845e-01\n",
      "15  4.960409 -9.694003e-01\n",
      "16  5.291103 -8.371665e-01\n",
      "17  5.621797 -6.142127e-01\n",
      "18  5.952491 -3.246995e-01\n",
      "19  6.283185 -2.449294e-16\n"
     ]
    },
    {
     "data": {
      "text/plain": [
       "[<matplotlib.lines.Line2D at 0x15df1448>]"
      ]
     },
     "execution_count": 59,
     "metadata": {},
     "output_type": "execute_result"
    },
    {
     "data": {
      "image/png": "[encoded data removed]",
      "text/plain": [
       "<Figure size 432x288 with 1 Axes>"
      ]
     },
     "metadata": {
      "needs_background": "light"
     },
     "output_type": "display_data"
    }
   ],
   "source": [
    "#pandasのDataFrameの使用。そのデータをMatplotlibでグラフ作成。\n",
    "fig, ax = plt.subplots()\n",
    "x = np.linspace(start=0, stop=2*np.pi, num=20)\n",
    "y = np.array([np.sin(i) for i in x])\n",
    "data = np.array([x,y])\n",
    "\n",
    "pd_data = pd.DataFrame(data, index=[\"x\",\"sin(x)\"]).transpose()\n",
    "print(pd_data)\n",
    "ax.plot(pd_data[\"x\"], pd_data[\"sin(x)\"])"
   ]
  }
 ],
 "metadata": {
  "kernelspec": {
   "display_name": "Python 3 (ipykernel)",
   "language": "python",
   "name": "python3"
  },
  "language_info": {
   "codemirror_mode": {
    "name": "ipython",
    "version": 3
   },
   "file_extension": ".py",
   "mimetype": "text/x-python",
   "name": "python",
   "nbconvert_exporter": "python",
   "pygments_lexer": "ipython3",
   "version": "3.8.5"
  }
 },
 "nbformat": 4,
 "nbformat_minor": 5
}
