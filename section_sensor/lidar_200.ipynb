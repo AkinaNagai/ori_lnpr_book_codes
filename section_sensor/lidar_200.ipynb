{
 "cells": [
  {
   "cell_type": "code",
   "execution_count": 1,
   "id": "1a4abb76",
   "metadata": {
    "scrolled": true
   },
   "outputs": [],
   "source": [
    "import pandas as pd\n",
    "import matplotlib.pyplot as plt\n",
    "import math\n",
    "import numpy as np\n",
    "\n",
    "#データをPandasのデータフレームに代入している。\n",
    "data = pd.read_csv(\"sensor_data_200.txt\",delimiter=\" \",header=None,names=(\"data\",\"time\",\"ir\",\"lidar\"))\n",
    "\n",
    "#平均値\n",
    "mean = data[\"lidar\"].mean()\n",
    "\n",
    "#標本分散、不偏分散\n",
    "zs = data[\"lidar\"]\n",
    "diff_square = [(z - mean)**2 for z in zs]  #リスト内包表記で記述。\n",
    "#標本分散\n",
    "sampling_var = sum(diff_square)/len(zs)\n",
    "#不偏分散\n",
    "unbiased_var = sum(diff_square)/(len(zs)-1)\n",
    "#標本分散の標準偏差\n",
    "sampling_stddev = math.sqrt(sampling_var)\n",
    "#不偏分散の標準偏差\n",
    "unbiased_stddev = math.sqrt(unbiased_var)\n"
   ]
  },
  {
   "cell_type": "code",
   "execution_count": 2,
   "id": "bab00aff",
   "metadata": {},
   "outputs": [
    {
     "data": {
      "image/png": "[encoded data removed]",
      "text/plain": [
       "<Figure size 432x288 with 1 Axes>"
      ]
     },
     "metadata": {
      "needs_background": "light"
     },
     "output_type": "display_data"
    }
   ],
   "source": [
    "#ヒストグラム作成\n",
    "bins_value = max(data[\"lidar\"])-min(data[\"lidar\"])\n",
    "data[\"lidar\"].plot(bins = bins_value, kind=\"hist\", align=\"left\", color=\"orange\")\n",
    "plt.vlines(mean, ymin=0, ymax=5000, color=\"red\")\n",
    "plt.show()"
   ]
  },
  {
   "cell_type": "code",
   "execution_count": 3,
   "id": "ccba13c9",
   "metadata": {
    "scrolled": true
   },
   "outputs": [
    {
     "data": {
      "text/html": [
       "<div>\n",
       "<style scoped>\n",
       "    .dataframe tbody tr th:only-of-type {\n",
       "        vertical-align: middle;\n",
       "    }\n",
       "\n",
       "    .dataframe tbody tr th {\n",
       "        vertical-align: top;\n",
       "    }\n",
       "\n",
       "    .dataframe thead th {\n",
       "        text-align: right;\n",
       "    }\n",
       "</style>\n",
       "<table border=\"1\" class=\"dataframe\">\n",
       "  <thead>\n",
       "    <tr style=\"text-align: right;\">\n",
       "      <th></th>\n",
       "      <th>193</th>\n",
       "      <th>194</th>\n",
       "      <th>195</th>\n",
       "      <th>196</th>\n",
       "      <th>197</th>\n",
       "      <th>198</th>\n",
       "      <th>199</th>\n",
       "      <th>200</th>\n",
       "      <th>201</th>\n",
       "      <th>202</th>\n",
       "      <th>...</th>\n",
       "      <th>218</th>\n",
       "      <th>219</th>\n",
       "      <th>220</th>\n",
       "      <th>221</th>\n",
       "      <th>222</th>\n",
       "      <th>223</th>\n",
       "      <th>224</th>\n",
       "      <th>226</th>\n",
       "      <th>227</th>\n",
       "      <th>229</th>\n",
       "    </tr>\n",
       "  </thead>\n",
       "  <tbody>\n",
       "    <tr>\n",
       "      <th>lidar</th>\n",
       "      <td>4.000000</td>\n",
       "      <td>10.00000</td>\n",
       "      <td>13.00000</td>\n",
       "      <td>59.000</td>\n",
       "      <td>84.000000</td>\n",
       "      <td>205.000000</td>\n",
       "      <td>353.000000</td>\n",
       "      <td>668.000000</td>\n",
       "      <td>1053.000000</td>\n",
       "      <td>1584.000000</td>\n",
       "      <td>...</td>\n",
       "      <td>1224.00000</td>\n",
       "      <td>749.000000</td>\n",
       "      <td>486.000000</td>\n",
       "      <td>252.000000</td>\n",
       "      <td>127.000000</td>\n",
       "      <td>55.000000</td>\n",
       "      <td>32.000000</td>\n",
       "      <td>15.000000</td>\n",
       "      <td>3.000000</td>\n",
       "      <td>1.000000</td>\n",
       "    </tr>\n",
       "    <tr>\n",
       "      <th>probes</th>\n",
       "      <td>0.000068</td>\n",
       "      <td>0.00017</td>\n",
       "      <td>0.00022</td>\n",
       "      <td>0.001</td>\n",
       "      <td>0.001424</td>\n",
       "      <td>0.003475</td>\n",
       "      <td>0.005984</td>\n",
       "      <td>0.011324</td>\n",
       "      <td>0.017851</td>\n",
       "      <td>0.026853</td>\n",
       "      <td>...</td>\n",
       "      <td>0.02075</td>\n",
       "      <td>0.012697</td>\n",
       "      <td>0.008239</td>\n",
       "      <td>0.004272</td>\n",
       "      <td>0.002153</td>\n",
       "      <td>0.000932</td>\n",
       "      <td>0.000542</td>\n",
       "      <td>0.000254</td>\n",
       "      <td>0.000051</td>\n",
       "      <td>0.000017</td>\n",
       "    </tr>\n",
       "  </tbody>\n",
       "</table>\n",
       "<p>2 rows × 35 columns</p>\n",
       "</div>"
      ],
      "text/plain": [
       "             193       194       195     196        197         198  \\\n",
       "lidar   4.000000  10.00000  13.00000  59.000  84.000000  205.000000   \n",
       "probes  0.000068   0.00017   0.00022   0.001   0.001424    0.003475   \n",
       "\n",
       "               199         200          201          202  ...         218  \\\n",
       "lidar   353.000000  668.000000  1053.000000  1584.000000  ...  1224.00000   \n",
       "probes    0.005984    0.011324     0.017851     0.026853  ...     0.02075   \n",
       "\n",
       "               219         220         221         222        223        224  \\\n",
       "lidar   749.000000  486.000000  252.000000  127.000000  55.000000  32.000000   \n",
       "probes    0.012697    0.008239    0.004272    0.002153   0.000932   0.000542   \n",
       "\n",
       "              226       227       229  \n",
       "lidar   15.000000  3.000000  1.000000  \n",
       "probes   0.000254  0.000051  0.000017  \n",
       "\n",
       "[2 rows x 35 columns]"
      ]
     },
     "execution_count": 3,
     "metadata": {},
     "output_type": "execute_result"
    }
   ],
   "source": [
    "#頻度\n",
    "freqs = pd.DataFrame(data[\"lidar\"].value_counts()).sort_index()\n",
    "#各測定値がでる確率\n",
    "freqs[\"probes\"] = freqs[\"lidar\"]/len(data[\"lidar\"])\n",
    "#行と列の入れ替え\n",
    "freqs.transpose()"
   ]
  },
  {
   "cell_type": "code",
   "execution_count": 4,
   "id": "3fa6e533",
   "metadata": {},
   "outputs": [
    {
     "data": {
      "image/png": "[encoded data removed]",
      "text/plain": [
       "<Figure size 432x288 with 1 Axes>"
      ]
     },
     "metadata": {
      "needs_background": "light"
     },
     "output_type": "display_data"
    }
   ],
   "source": [
    "#確率質量関数\n",
    "freqs[\"probes\"].plot(kind=\"bar\", color=\"Black\")\n",
    "plt.show()"
   ]
  },
  {
   "cell_type": "code",
   "execution_count": 13,
   "id": "e877abbe",
   "metadata": {
    "scrolled": false
   },
   "outputs": [
    {
     "data": {
      "image/png": "[encoded data removed]",
      "text/plain": [
       "<Figure size 432x288 with 1 Axes>"
      ]
     },
     "metadata": {
      "needs_background": "light"
     },
     "output_type": "display_data"
    }
   ],
   "source": [
    "#Lidarでの測定をシミュレート\n",
    "def drawing():\n",
    "    return freqs.sample(n=1,weights=\"probes\").index[0]\n",
    "\n",
    "#samples = [drawing() for i in range(len(data))]\n",
    "samples = [drawing() for i in range(len(data)*2)]\n",
    "simulated = pd.DataFrame(samples, columns=[\"lidar\"])\n",
    "simulated.transpose()\n",
    "bins_value2 = max(simulated[\"lidar\"])-min(simulated[\"lidar\"])\n",
    "simulated.plot(bins = bins_value2, kind=\"hist\", align=\"left\", color=\"orange\")\n",
    "plt.show()"
   ]
  },
  {
   "cell_type": "code",
   "execution_count": 18,
   "id": "b9ca00c3",
   "metadata": {},
   "outputs": [
    {
     "data": {
      "image/png": "[encoded data removed]",
      "text/plain": [
       "<Figure size 432x288 with 1 Axes>"
      ]
     },
     "metadata": {
      "needs_background": "light"
     },
     "output_type": "display_data"
    }
   ],
   "source": [
    "def p(z, mu=209.7, dev=23.4):\n",
    "    return math.exp(-(z-mu)**2/(2*dev))/(math.sqrt(2*math.pi*dev))\n",
    "\n",
    "zs = range(190,230)\n",
    "ys = [p(z) for z in zs]\n",
    "\n",
    "plt.plot(zs,ys)\n",
    "plt.show()"
   ]
  }
 ],
 "metadata": {
  "kernelspec": {
   "display_name": "Python 3 (ipykernel)",
   "language": "python",
   "name": "python3"
  },
  "language_info": {
   "codemirror_mode": {
    "name": "ipython",
    "version": 3
   },
   "file_extension": ".py",
   "mimetype": "text/x-python",
   "name": "python",
   "nbconvert_exporter": "python",
   "pygments_lexer": "ipython3",
   "version": "3.8.5"
  }
 },
 "nbformat": 4,
 "nbformat_minor": 5
}
