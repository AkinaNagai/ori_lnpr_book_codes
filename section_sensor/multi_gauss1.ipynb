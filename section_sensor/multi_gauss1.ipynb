{
 "cells": [
  {
   "cell_type": "code",
   "execution_count": 1,
   "metadata": {
    "colab": {
     "base_uri": "https://localhost:8080/",
     "height": 458
    },
    "executionInfo": {
     "elapsed": 18987,
     "status": "ok",
     "timestamp": 1639625627147,
     "user": {
      "displayName": "A N",
      "photoUrl": "https://lh3.googleusercontent.com/a-/AOh14GgwkX6Xx0oAoAlZzdGNrvFIoAfv5Yjh5wqK53_FTg=s64",
      "userId": "10793094909333538741"
     },
     "user_tz": -540
    },
    "id": "9G6TKt-3LZ4o",
    "outputId": "efec982d-3992-4441-a52f-62074523653e",
    "scrolled": true
   },
   "outputs": [
    {
     "data": {
      "text/plain": [
       "<seaborn.axisgrid.JointGrid at 0x1b982358>"
      ]
     },
     "execution_count": 1,
     "metadata": {},
     "output_type": "execute_result"
    },
    {
     "data": {
      "image/png": "[encoded data removed]",
      "text/plain": [
       "<Figure size 432x432 with 3 Axes>"
      ]
     },
     "metadata": {
      "needs_background": "light"
     },
     "output_type": "display_data"
    }
   ],
   "source": [
    "#2次元ガウス分布\n",
    "import os\n",
    "import pandas as pd\n",
    "import numpy as np\n",
    "import matplotlib.pyplot as plt\n",
    "import seaborn as sns\n",
    "\n",
    "data = pd.read_csv(\"./sensor_data_700.txt\",delimiter=\" \", header=None, names = [\"date\",\"time\",\"ir\",\"lidar\"])\n",
    "\n",
    "d = data[ (data[\"time\"]<160000) & (data[\"time\"]>=120000) ]\n",
    "d = d.loc[:, [\"ir\",\"lidar\"]]\n",
    "\n",
    "sns.jointplot(x=d[\"ir\"],y=d[\"lidar\"],data=d,kind=\"kde\")"
   ]
  },
  {
   "cell_type": "code",
   "execution_count": 3,
   "metadata": {
    "colab": {
     "base_uri": "https://localhost:8080/"
    },
    "executionInfo": {
     "elapsed": 258,
     "status": "ok",
     "timestamp": 1639610403151,
     "user": {
      "displayName": "A N",
      "photoUrl": "https://lh3.googleusercontent.com/a-/AOh14GgwkX6Xx0oAoAlZzdGNrvFIoAfv5Yjh5wqK53_FTg=s64",
      "userId": "10793094909333538741"
     },
     "user_tz": -540
    },
    "id": "UkwnnlBgYQbz",
    "outputId": "5613570c-2472-43e1-db1d-5bd39d7d72b4"
   },
   "outputs": [
    {
     "name": "stdout",
     "output_type": "stream",
     "text": [
      "光センサの計測値の分散: 42.117126367701594\n",
      "LIDARの計測値の分散: 17.702026469211457\n",
      "共分散: -0.31675568619766026\n"
     ]
    },
    {
     "data": {
      "text/plain": [
       "ir        19.860247\n",
       "lidar    729.311958\n",
       "dtype: float64"
      ]
     },
     "execution_count": 3,
     "metadata": {},
     "output_type": "execute_result"
    }
   ],
   "source": [
    "#光センサとlidarの測定値の共分散の計算_1\n",
    "print(\"光センサの計測値の分散:\", d.ir.var())\n",
    "print(\"LIDARの計測値の分散:\", d.lidar.var())\n",
    "\n",
    "diff_ir = d.ir - d.ir.mean()\n",
    "diff_lidar = d.lidar - d.lidar.mean()\n",
    "a = diff_ir*diff_lidar\n",
    "print(\"共分散:\", sum(a)/len(d))\n",
    "\n",
    "d.mean()"
   ]
  },
  {
   "cell_type": "code",
   "execution_count": 4,
   "metadata": {
    "colab": {
     "base_uri": "https://localhost:8080/",
     "height": 112
    },
    "executionInfo": {
     "elapsed": 243,
     "status": "ok",
     "timestamp": 1639610506840,
     "user": {
      "displayName": "A N",
      "photoUrl": "https://lh3.googleusercontent.com/a-/AOh14GgwkX6Xx0oAoAlZzdGNrvFIoAfv5Yjh5wqK53_FTg=s64",
      "userId": "10793094909333538741"
     },
     "user_tz": -540
    },
    "id": "_0O_zpEFZrB4",
    "outputId": "0ee93fbf-d438-4c9e-84ac-04e85f93c250"
   },
   "outputs": [
    {
     "data": {
      "text/html": [
       "<div>\n",
       "<style scoped>\n",
       "    .dataframe tbody tr th:only-of-type {\n",
       "        vertical-align: middle;\n",
       "    }\n",
       "\n",
       "    .dataframe tbody tr th {\n",
       "        vertical-align: top;\n",
       "    }\n",
       "\n",
       "    .dataframe thead th {\n",
       "        text-align: right;\n",
       "    }\n",
       "</style>\n",
       "<table border=\"1\" class=\"dataframe\">\n",
       "  <thead>\n",
       "    <tr style=\"text-align: right;\">\n",
       "      <th></th>\n",
       "      <th>ir</th>\n",
       "      <th>lidar</th>\n",
       "    </tr>\n",
       "  </thead>\n",
       "  <tbody>\n",
       "    <tr>\n",
       "      <th>ir</th>\n",
       "      <td>42.117126</td>\n",
       "      <td>-0.316778</td>\n",
       "    </tr>\n",
       "    <tr>\n",
       "      <th>lidar</th>\n",
       "      <td>-0.316778</td>\n",
       "      <td>17.702026</td>\n",
       "    </tr>\n",
       "  </tbody>\n",
       "</table>\n",
       "</div>"
      ],
      "text/plain": [
       "              ir      lidar\n",
       "ir     42.117126  -0.316778\n",
       "lidar  -0.316778  17.702026"
      ]
     },
     "execution_count": 4,
     "metadata": {},
     "output_type": "execute_result"
    }
   ],
   "source": [
    "#光センサとlidarの測定値の共分散の計算_2\n",
    "d.cov()"
   ]
  },
  {
   "cell_type": "code",
   "execution_count": 31,
   "metadata": {
    "colab": {
     "base_uri": "https://localhost:8080/",
     "height": 491
    },
    "executionInfo": {
     "elapsed": 822,
     "status": "ok",
     "timestamp": 1639627161113,
     "user": {
      "displayName": "A N",
      "photoUrl": "https://lh3.googleusercontent.com/a-/AOh14GgwkX6Xx0oAoAlZzdGNrvFIoAfv5Yjh5wqK53_FTg=s64",
      "userId": "10793094909333538741"
     },
     "user_tz": -540
    },
    "id": "x_3w1fakZz2O",
    "outputId": "fef7cb5d-42a0-478a-a9aa-5aaf1db245ce"
   },
   "outputs": [
    {
     "data": {
      "text/plain": [
       "[<matplotlib.lines.Line2D at 0x65605b0>]"
      ]
     },
     "execution_count": 31,
     "metadata": {},
     "output_type": "execute_result"
    },
    {
     "data": {
      "image/png": "[encoded data removed]",
      "text/plain": [
       "<Figure size 432x288 with 1 Axes>"
      ]
     },
     "metadata": {
      "needs_background": "light"
     },
     "output_type": "display_data"
    }
   ],
   "source": [
    "from scipy.stats import multivariate_normal\n",
    "irlidar = multivariate_normal(mean=d.mean().values.T, cov=d.cov().values) #平均値と共分散が既知の、多次元の正規分布に従う、乱数を生成し、irlidarに代入している。\n",
    "\n",
    "x = np.linspace(-10,10,100)\n",
    "y = multivariate_normal.pdf(x, mean=0, cov=5)\n",
    "fig=plt.figure()\n",
    "ax = fig.add_subplot(111)\n",
    "ax.plot(x,y)\n",
    "\n",
    "#x,y = np.mgrid[0:40,710:750]\n",
    "#pos = np.zeros(x.shape + (2,))\n",
    "#pos[:,:,0] = x\n",
    "#pos[:,:,1] = y\n",
    "#cont = plt.contour(x,y,irlidar.pdf(pos))\n",
    "#cont.clabel(fmt='%1.1e')\n",
    "#plt.show()"
   ]
  }
 ],
 "metadata": {
  "colab": {
   "authorship_tag": "ABX9TyPJULj5z1XMge9vzcSLgAEZ",
   "collapsed_sections": [],
   "mount_file_id": "1J_h37WodhnlziTZY9H2H9J-X53O7eIyQ",
   "name": "multi_gauss1.ipynb",
   "provenance": []
  },
  "kernelspec": {
   "display_name": "Python 3 (ipykernel)",
   "language": "python",
   "name": "python3"
  },
  "language_info": {
   "codemirror_mode": {
    "name": "ipython",
    "version": 3
   },
   "file_extension": ".py",
   "mimetype": "text/x-python",
   "name": "python",
   "nbconvert_exporter": "python",
   "pygments_lexer": "ipython3",
   "version": "3.8.5"
  }
 },
 "nbformat": 4,
 "nbformat_minor": 1
}
