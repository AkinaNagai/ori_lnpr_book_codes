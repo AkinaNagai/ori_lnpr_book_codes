{
 "cells": [
  {
   "cell_type": "code",
   "execution_count": 2,
   "id": "57760fcc",
   "metadata": {},
   "outputs": [
    {
     "data": {
      "image/png": "[encoded data removed]",
      "text/plain": [
       "<Figure size 432x288 with 1 Axes>"
      ]
     },
     "metadata": {
      "needs_background": "light"
     },
     "output_type": "display_data"
    }
   ],
   "source": [
    "#測定値をグラフで表示。グラフは、マルチモーダル（多峰性）な分布\n",
    "import pandas as pd\n",
    "import matplotlib.pyplot as plt\n",
    "\n",
    "data = pd.read_csv(\"./sensor_data_600.txt\", delimiter=\" \", header = None, names = (\"date\", \"time\", \"ir\", \"lidar\"))\n",
    "\n",
    "data[\"lidar\"].hist(bins = max(data[\"lidar\"]) - min(data[\"lidar\"]),align=\"left\")\n",
    "plt.show()"
   ]
  },
  {
   "cell_type": "code",
   "execution_count": 3,
   "id": "300a6f0e",
   "metadata": {},
   "outputs": [
    {
     "data": {
      "text/html": [
       "<div>\n",
       "<style scoped>\n",
       "    .dataframe tbody tr th:only-of-type {\n",
       "        vertical-align: middle;\n",
       "    }\n",
       "\n",
       "    .dataframe tbody tr th {\n",
       "        vertical-align: top;\n",
       "    }\n",
       "\n",
       "    .dataframe thead th {\n",
       "        text-align: right;\n",
       "    }\n",
       "</style>\n",
       "<table border=\"1\" class=\"dataframe\">\n",
       "  <thead>\n",
       "    <tr style=\"text-align: right;\">\n",
       "      <th></th>\n",
       "      <th>date</th>\n",
       "      <th>time</th>\n",
       "      <th>ir</th>\n",
       "      <th>lidar</th>\n",
       "    </tr>\n",
       "  </thead>\n",
       "  <tbody>\n",
       "    <tr>\n",
       "      <th>0</th>\n",
       "      <td>20180202</td>\n",
       "      <td>110001</td>\n",
       "      <td>28</td>\n",
       "      <td>627</td>\n",
       "    </tr>\n",
       "    <tr>\n",
       "      <th>1</th>\n",
       "      <td>20180202</td>\n",
       "      <td>110004</td>\n",
       "      <td>17</td>\n",
       "      <td>626</td>\n",
       "    </tr>\n",
       "    <tr>\n",
       "      <th>2</th>\n",
       "      <td>20180202</td>\n",
       "      <td>110007</td>\n",
       "      <td>14</td>\n",
       "      <td>627</td>\n",
       "    </tr>\n",
       "    <tr>\n",
       "      <th>3</th>\n",
       "      <td>20180202</td>\n",
       "      <td>110010</td>\n",
       "      <td>31</td>\n",
       "      <td>622</td>\n",
       "    </tr>\n",
       "    <tr>\n",
       "      <th>4</th>\n",
       "      <td>20180202</td>\n",
       "      <td>110013</td>\n",
       "      <td>24</td>\n",
       "      <td>630</td>\n",
       "    </tr>\n",
       "    <tr>\n",
       "      <th>...</th>\n",
       "      <td>...</td>\n",
       "      <td>...</td>\n",
       "      <td>...</td>\n",
       "      <td>...</td>\n",
       "    </tr>\n",
       "    <tr>\n",
       "      <th>82296</th>\n",
       "      <td>20180205</td>\n",
       "      <td>84216</td>\n",
       "      <td>39</td>\n",
       "      <td>634</td>\n",
       "    </tr>\n",
       "    <tr>\n",
       "      <th>82297</th>\n",
       "      <td>20180205</td>\n",
       "      <td>84220</td>\n",
       "      <td>13</td>\n",
       "      <td>637</td>\n",
       "    </tr>\n",
       "    <tr>\n",
       "      <th>82298</th>\n",
       "      <td>20180205</td>\n",
       "      <td>84222</td>\n",
       "      <td>37</td>\n",
       "      <td>633</td>\n",
       "    </tr>\n",
       "    <tr>\n",
       "      <th>82299</th>\n",
       "      <td>20180205</td>\n",
       "      <td>84225</td>\n",
       "      <td>36</td>\n",
       "      <td>633</td>\n",
       "    </tr>\n",
       "    <tr>\n",
       "      <th>82300</th>\n",
       "      <td>20180205</td>\n",
       "      <td>84228</td>\n",
       "      <td>33</td>\n",
       "      <td>634</td>\n",
       "    </tr>\n",
       "  </tbody>\n",
       "</table>\n",
       "<p>82301 rows × 4 columns</p>\n",
       "</div>"
      ],
      "text/plain": [
       "           date    time  ir  lidar\n",
       "0      20180202  110001  28    627\n",
       "1      20180202  110004  17    626\n",
       "2      20180202  110007  14    627\n",
       "3      20180202  110010  31    622\n",
       "4      20180202  110013  24    630\n",
       "...         ...     ...  ..    ...\n",
       "82296  20180205   84216  39    634\n",
       "82297  20180205   84220  13    637\n",
       "82298  20180205   84222  37    633\n",
       "82299  20180205   84225  36    633\n",
       "82300  20180205   84228  33    634\n",
       "\n",
       "[82301 rows x 4 columns]"
      ]
     },
     "execution_count": 3,
     "metadata": {},
     "output_type": "execute_result"
    }
   ],
   "source": [
    "data"
   ]
  },
  {
   "cell_type": "code",
   "execution_count": 4,
   "id": "1de9b92a",
   "metadata": {},
   "outputs": [
    {
     "data": {
      "image/png": "[encoded data removed]",
      "text/plain": [
       "<Figure size 432x288 with 1 Axes>"
      ]
     },
     "metadata": {
      "needs_background": "light"
     },
     "output_type": "display_data"
    }
   ],
   "source": [
    "#Lidar値を、測定した順番に並べて表示\n",
    "data.lidar.plot()\n",
    "plt.show()"
   ]
  },
  {
   "cell_type": "code",
   "execution_count": 75,
   "id": "472346a4",
   "metadata": {
    "scrolled": false
   },
   "outputs": [
    {
     "name": "stdout",
     "output_type": "stream",
     "text": [
      "<class 'pandas.core.frame.DataFrame'>\n"
     ]
    },
    {
     "data": {
      "text/plain": [
       "Text(0, 0.5, 'Lidar value (mm)')"
      ]
     },
     "execution_count": 75,
     "metadata": {},
     "output_type": "execute_result"
    },
    {
     "data": {
      "image/png": "[encoded data removed]",
      "text/plain": [
       "<Figure size 432x288 with 1 Axes>"
      ]
     },
     "metadata": {
      "needs_background": "light"
     },
     "output_type": "display_data"
    }
   ],
   "source": [
    "data[\"hour\"] = [e//10000 for e in data.time] #timeのうち、分秒を切り捨て。\n",
    "d = data.groupby(\"hour\")                     #各時刻のデータをグルーピング。dには全てのデータが入っている。\n",
    "\n",
    "#PandasのseriesからDataFrameへ変換\n",
    "new_d = pd.DataFrame(d.lidar.mean())         #lidar値を平均し、indexのhourが横軸でプロット。\n",
    "print(type(new_d))\n",
    "\n",
    "#Matplotlibで、オブジェクト指向インターフェースの記述方法\n",
    "fig, ax = plt.subplots()\n",
    "ax.plot(new_d[\"lidar\"].index, new_d[\"lidar\"],  label = 'lidar')\n",
    "ax.set_xlabel('Hour (h)')\n",
    "ax.set_ylabel('Lidar value (mm)')"
   ]
  },
  {
   "cell_type": "code",
   "execution_count": 6,
   "id": "61705204",
   "metadata": {},
   "outputs": [
    {
     "data": {
      "image/png": "[encoded data removed]",
      "text/plain": [
       "<Figure size 432x288 with 1 Axes>"
      ]
     },
     "metadata": {
      "needs_background": "light"
     },
     "output_type": "display_data"
    }
   ],
   "source": [
    "#6時と14時に測定したlidarのデータの分布を目視で比較。\n",
    "d.lidar.get_group(6).hist()\n",
    "d.lidar.get_group(14).hist()\n",
    "plt.show()"
   ]
  }
 ],
 "metadata": {
  "kernelspec": {
   "display_name": "Python 3 (ipykernel)",
   "language": "python",
   "name": "python3"
  },
  "language_info": {
   "codemirror_mode": {
    "name": "ipython",
    "version": 3
   },
   "file_extension": ".py",
   "mimetype": "text/x-python",
   "name": "python",
   "nbconvert_exporter": "python",
   "pygments_lexer": "ipython3",
   "version": "3.8.5"
  }
 },
 "nbformat": 4,
 "nbformat_minor": 5
}
