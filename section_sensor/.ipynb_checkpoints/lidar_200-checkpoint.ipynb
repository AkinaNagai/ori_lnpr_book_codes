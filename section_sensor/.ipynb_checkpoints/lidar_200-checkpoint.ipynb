{
 "cells": [
  {
   "cell_type": "code",
   "execution_count": 31,
   "id": "1a4abb76",
   "metadata": {
    "scrolled": true
   },
   "outputs": [
    {
     "data": {
      "image/png": "[encoded data removed]",
      "text/plain": [
       "<Figure size 432x288 with 1 Axes>"
      ]
     },
     "metadata": {
      "needs_background": "light"
     },
     "output_type": "display_data"
    }
   ],
   "source": [
    "import pandas as pd\n",
    "import matplotlib.pyplot as plt\n",
    "\n",
    "data = pd.read_csv(\"sensor_data_200.txt\",delimiter=\" \",header=None,names=(\"data\",\"time\",\"ir\",\"lidar\"))\n",
    "bins_value = max(data[\"lidar\"])-min(data[\"lidar\"])\n",
    "\n",
    "#平均値\n",
    "mean = data[\"lidar\"].mean()\n",
    "\n",
    "#標本分散、不偏分散\n",
    "zs = data[\"lidar\"]\n",
    "diff_square = [(z - mean)**2 for z in zs]  #リスト内包表記\n",
    "sampling_var = sum(diff_square)/len(zs)\n",
    "unbiased_var = sum(diff_square)/(len(zs)-1)\n",
    "\n",
    "#ヒストグラム作成\n",
    "data[\"lidar\"].hist(bins = bins_value, align=\"left\", color=\"orange\")\n",
    "plt.vlines(mean, ymin=0, ymax=5000, color=\"red\")\n",
    "plt.show()"
   ]
  },
  {
   "cell_type": "code",
   "execution_count": null,
   "id": "e877abbe",
   "metadata": {},
   "outputs": [],
   "source": []
  }
 ],
 "metadata": {
  "kernelspec": {
   "display_name": "Python 3 (ipykernel)",
   "language": "python",
   "name": "python3"
  },
  "language_info": {
   "codemirror_mode": {
    "name": "ipython",
    "version": 3
   },
   "file_extension": ".py",
   "mimetype": "text/x-python",
   "name": "python",
   "nbconvert_exporter": "python",
   "pygments_lexer": "ipython3",
   "version": "3.8.5"
  }
 },
 "nbformat": 4,
 "nbformat_minor": 5
}
