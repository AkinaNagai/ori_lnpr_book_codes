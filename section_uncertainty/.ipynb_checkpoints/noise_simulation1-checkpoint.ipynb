{
 "cells": [
  {
   "cell_type": "code",
   "execution_count": 18,
   "id": "37b77db6",
   "metadata": {},
   "outputs": [],
   "source": [
    "import sys\n",
    "sys.path.append('../scripts/')\n",
    "from ideal_robot import *\n",
    "from scipy.stats import expon, norm"
   ]
  },
  {
   "cell_type": "code",
   "execution_count": 19,
   "id": "d0255daa",
   "metadata": {},
   "outputs": [],
   "source": [
    "class Robot(IdealRobot):\n",
    "    pass"
   ]
  },
  {
   "cell_type": "code",
   "execution_count": 20,
   "id": "2be1dc8d",
   "metadata": {},
   "outputs": [
    {
     "data": {
      "text/plain": [
       "<ideal_robot.World at 0x1efb5958>"
      ]
     },
     "execution_count": 20,
     "metadata": {},
     "output_type": "execute_result"
    }
   ],
   "source": [
    "world=World(30, 0.1)\n",
    "\n",
    "landmark1=Landmark(0,-1)\n",
    "landmark2=Landmark(1,-1)\n",
    "m = Map()\n",
    "m.append_landmark(landmark1)\n",
    "m.append_landmark(landmark2)\n",
    "\n",
    "world.append(m)"
   ]
  }
 ],
 "metadata": {
  "kernelspec": {
   "display_name": "Python 3 (ipykernel)",
   "language": "python",
   "name": "python3"
  },
  "language_info": {
   "codemirror_mode": {
    "name": "ipython",
    "version": 3
   },
   "file_extension": ".py",
   "mimetype": "text/x-python",
   "name": "python",
   "nbconvert_exporter": "python",
   "pygments_lexer": "ipython3",
   "version": "3.8.5"
  }
 },
 "nbformat": 4,
 "nbformat_minor": 5
}
