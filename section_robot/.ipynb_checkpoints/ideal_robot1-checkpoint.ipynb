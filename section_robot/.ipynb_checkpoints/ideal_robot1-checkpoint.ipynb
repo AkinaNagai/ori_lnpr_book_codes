{
 "cells": [
  {
   "cell_type": "code",
   "execution_count": 5,
   "id": "bd91d412",
   "metadata": {},
   "outputs": [],
   "source": [
    "import matplotlib.pyplot as plt\n",
    "\n",
    "class World:\n",
    "    def __init__(self):  #インスタンス時に必ず実行される。\n",
    "        self.objects = [] #ロボットなどのオブジェクトを入れる空リストを生成\n",
    "    def append(self,obj): \n",
    "        self.objects.append(obj)\n",
    "    def draw(self):\n",
    "        fig = plt.figure(figsize=(8,8))\n",
    "        ax = fig.add_subplot(111)\n",
    "        ax.set_aspect(\"equal\")\n",
    "        ax.set_xlim(-5,5)\n",
    "        ax.set_ylim(-5,5)\n",
    "        ax.set_xlabel(\"X\",fontsize=20)\n",
    "        ax.set_ylabel(\"Y\",fontsize=20)\n",
    "    \n",
    "        for obj in self.objects: obj.draw(ax)\n",
    "        \n",
    "        plt.show()"
   ]
  },
  {
   "cell_type": "code",
   "execution_count": 6,
   "id": "c9cd3d17",
   "metadata": {},
   "outputs": [
    {
     "name": "stdout",
     "output_type": "stream",
     "text": [
      "1\n",
      "aaa\n"
     ]
    }
   ],
   "source": [
    "world = World()\n",
    "world.draw()"
   ]
  },
  {
   "cell_type": "code",
   "execution_count": 29,
   "id": "5d3100c2",
   "metadata": {},
   "outputs": [],
   "source": [
    "import matplotlib.pyplot as plt\n",
    "import math\n",
    "import matplotlib.patches as patches\n",
    "import numpy as np"
   ]
  },
  {
   "cell_type": "code",
   "execution_count": null,
   "id": "2cb4614d",
   "metadata": {},
   "outputs": [],
   "source": [
    "class IdealRobot:\n",
    "    def __init__(self,pose,color=\"black\"):\n",
    "        self.pose = pose\n",
    "        self.r = 0.2\n",
    "        self.color =color\n",
    "    \n",
    "    def draw(self,ax):\n",
    "        x, y, theta = pose\n",
    "        xn = x + self.r * math.cos(theta)\n",
    "        yn = y + self.r * math.sin(theta)\n",
    "        "
   ]
  }
 ],
 "metadata": {
  "kernelspec": {
   "display_name": "Python 3 (ipykernel)",
   "language": "python",
   "name": "python3"
  },
  "language_info": {
   "codemirror_mode": {
    "name": "ipython",
    "version": 3
   },
   "file_extension": ".py",
   "mimetype": "text/x-python",
   "name": "python",
   "nbconvert_exporter": "python",
   "pygments_lexer": "ipython3",
   "version": "3.8.5"
  }
 },
 "nbformat": 4,
 "nbformat_minor": 5
}
